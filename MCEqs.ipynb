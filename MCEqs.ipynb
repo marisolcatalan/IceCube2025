{
 "cells": [
  {
   "cell_type": "markdown",
   "metadata": {},
   "source": [
    "# <font color = 'black'> **Solving Matrix Cascade Equations (MCEqs)** </font>"
   ]
  },
  {
   "cell_type": "markdown",
   "metadata": {},
   "source": [
    "## <font color = 'purple'> **Background on MCEq** </font>\n",
    "\n",
    "MCEqs are used to numerically solve for particle cascade equations. It computers *inclusive* particle fluxes. This means that the primary cosmic-ray spectrum has been integrated over and we will use it in air-shower mode to study the average behavior of the development of the air showers initiated by the cosmic ray nucleus.\n",
    "\n",
    "<font color = 'darkred'> **Unit of energy is in GeV.** </font>"
   ]
  },
  {
   "cell_type": "markdown",
   "metadata": {},
   "source": [
    "## <font color = 'purple'> **Imports** </font>"
   ]
  },
  {
   "cell_type": "code",
   "execution_count": 2,
   "metadata": {},
   "outputs": [],
   "source": [
    "from MCEq.core import config, MCEqRun\n",
    "import crflux.models as crf\n",
    "import matplotlib.pyplot as plt\n",
    "import scipy\n",
    "import numpy as np\n",
    "import pandas as pd"
   ]
  },
  {
   "cell_type": "markdown",
   "metadata": {},
   "source": [
    "## <font color = 'purple'> **Ex 2.1:**  Muon number & energy</font>\n",
    "\n",
    "We will compare a detailed calculation of particle numbers and energies to simple estimates from the Heitler-Matthews model. For this exercise, you do not need to run MCEq on a grid of atmospheric depths. By default, it will give you solutions for particle spectra at sea level."
   ]
  },
  {
   "cell_type": "markdown",
   "metadata": {},
   "source": [
    "### <font color = 'darkblue'> **Part A** </font>\n",
    "> Run MCEq for a vertical 10 PeV proton shower. Determine the total number of muons $N_μ$ ($μ^+ + μ^-$) in the shower and compare it to what you would expect from the Heitler-Matthews model (use the range 0.87 ≤ α ≤ 0.93 as seen in class)."
   ]
  },
  {
   "cell_type": "markdown",
   "metadata": {},
   "source": [
    "To determine the total number of muons in a proton shower, I will run the MCEq for a 10 PeV proton. Below is the code that will initialize this process. This code was retrieved from the online tutorial.\n",
    "* Using the *mceq* variable, I can find the total number of muons (at sea level) by using the *n_mu* function. Note that I will assign the minimum energy cutoff to be 0.0 to include the entire range of muons."
   ]
  },
  {
   "cell_type": "code",
   "execution_count": 2,
   "metadata": {},
   "outputs": [
    {
     "name": "stdout",
     "output_type": "stream",
     "text": [
      "MCEqRun::set_interaction_model(): SIBYLL23C\n",
      "ParticleManager::_init_default_tracking(): Initializing default tracking categories (pi, K, mu)\n",
      "MCEqRun::set_density_model(): Setting density profile to CORSIKA ('BK_USStd', None)\n",
      "MCEqRun::set_primary_model(): HillasGaisser2012 H3a\n"
     ]
    }
   ],
   "source": [
    "# Running the MCEq \n",
    "mceq = MCEqRun(\n",
    "\n",
    "# High-energy hadronic interaction model\n",
    "interaction_model='SIBYLL23C',\n",
    "\n",
    "# cosmic ray flux at the top of the atmosphere\n",
    "primary_model = (crf.HillasGaisser2012, 'H3a'),\n",
    "\n",
    "# zenith angle\n",
    "theta_deg = 0.  # Set to 0 for vertical showers\n",
    ")\n",
    "mceq.set_single_primary_particle(1e7, pdg_id=2212) # 10 PeV proton - Units are in GeV\n",
    "\n",
    "mceq.solve()"
   ]
  },
  {
   "cell_type": "code",
   "execution_count": 3,
   "metadata": {},
   "outputs": [
    {
     "name": "stdout",
     "output_type": "stream",
     "text": [
      "The number of muons at sea level: 101995\n"
     ]
    }
   ],
   "source": [
    "n_mu = mceq.n_mu(grid_idx=None, min_energy_cutoff=0) # Number of muons at sea level\n",
    "print('The number of muons at sea level: {:.0f}'.format(n_mu))"
   ]
  },
  {
   "cell_type": "markdown",
   "metadata": {},
   "source": [
    "From the Heitler-Matthews model, the number of muons can be calculated using:\n",
    "$$N_\\mu ^p = \\left(\\frac{E_o}{E_{dec}}\\right)^\\alpha$$\n",
    "where $E_o$ is the primary energy, $E_{dec}$ is energy maxmum in which a pion will decay into a muon, and $\\alpha = \\frac{ln\\left(\\frac{2}{3} n_{tot}\\right)}{ln(n_{tot})}$ . \n",
    "* In the lecture notes, $E_{dec} = 30 \\; GeV$ and the primary energy is based on the primary particle of the shower, in this case it is the 10 PeV (1e7 GeV) proton."
   ]
  },
  {
   "cell_type": "code",
   "execution_count": 4,
   "metadata": {},
   "outputs": [
    {
     "name": "stdout",
     "output_type": "stream",
     "text": [
      "The number of muons from Heitler-Matthews model is between 63812 and 136860\n"
     ]
    }
   ],
   "source": [
    "## HM Model\n",
    "Eo = 1e7   # Primary energy - Units of GeV\n",
    "Ec = 30    # Energy threshold in which pions will decay into muons - Units of GeV (from slides)\n",
    "beta_min = 0.87\n",
    "beta_max = 0.93\n",
    "\n",
    "low_HM_model = (Eo / Ec)**(beta_min)\n",
    "high_HM_model = (Eo / Ec)**(beta_max)\n",
    "\n",
    "print('The number of muons from Heitler-Matthews model is between {:.0f} and {:.0f}'.format(low_HM_model, high_HM_model))\n"
   ]
  },
  {
   "cell_type": "code",
   "execution_count": 16,
   "metadata": {},
   "outputs": [
    {
     "name": "stdout",
     "output_type": "stream",
     "text": [
      "N = Number of Muons\n",
      "MCEq: N = 101995\n",
      "Heitler-Matthews Model: 63812 < N < 136860\n"
     ]
    }
   ],
   "source": [
    "# Compare\n",
    "print('N = Number of Muons')\n",
    "print('MCEq: N = {:.0f}'.format(n_mu))\n",
    "print('Heitler-Matthews Model: {:.0f} < N < {:.0f}'.format(low_HM_model, high_HM_model))\n"
   ]
  },
  {
   "cell_type": "markdown",
   "metadata": {},
   "source": [
    "Therefore, the number of muons at sea level calculated from the MCEq code is in the range that the Heitler-Matthews model predicted, where $\\beta$ ranged from $0.87$ to $0.93$. "
   ]
  },
  {
   "cell_type": "markdown",
   "metadata": {},
   "source": [
    "### <font color = 'darkblue'> **Part B** </font>\n",
    "> Determine the energy spectrum of muons in the shower, given by the number of muons in a certain energy bin divided by the bin width, $\\frac{dN_\\mu}{dE_\\mu}$. Using this distribution, calculate the average muon energy in the shower. Compare it to the assumed muon energy in the Heitler-Matthews model, knowing that muons carry approximately 80% of the energy of the pion after decay."
   ]
  },
  {
   "cell_type": "markdown",
   "metadata": {},
   "source": [
    "To find the flux of muons, I will use the *get_solutions* function from the mceq and integrate over all the positively and negatively charged muons, I will call this $dN$. To calculate the different in muon energy, I will use the *e_widths* function, which denoted the width of the energy bins, meaning the difference in energy, $dE$.\n",
    "* Therefore to calculate the energy spectrum of muons, I will divide the flux of muons by the different in energy to obtain an energy spectrum of the muons. I will call this $dNdE$ . \n",
    "\n",
    "*Note that the energy spectrum is denoted by the **e_grid** function.*\n",
    "\n",
    "I can use the Simpson integration technique from *scipy* to determine the average muon energy. \n",
    "* This function integrated a function using samples along a given axis using the composite Simpson's rule.\n",
    "* Eg. Integrating $y(x)$ along $x$: scipy.integrate.simpson(y, x = x)\n",
    "\n",
    "\n",
    "First, I will find the total energy of the muons, which is \n",
    "$$E_{tot} = \\int  E \\, \\frac{dN}{dE}$$\n",
    "* Sampled along the energy spectrum, $E$ \n",
    "\n",
    "Then, I will calculate the total energy spectrum:\n",
    "$$E_{spec} = \\int \\frac{dN}{dE}$$ \n",
    "* Sampled along E\n",
    "\n",
    "Therefore, the mean muon energy is given by:\n",
    "$$E_{avg , \\mu} = \\frac{E_{tot}}{E_{spec}}$$ \n",
    "* Given in units of GeV"
   ]
  },
  {
   "cell_type": "code",
   "execution_count": 6,
   "metadata": {},
   "outputs": [
    {
     "name": "stdout",
     "output_type": "stream",
     "text": [
      "The mean muon energy from MCEq is 8.7994929014951 GeV\n"
     ]
    }
   ],
   "source": [
    "dN = mceq.get_solution('mu+', integrate = True) + mceq.get_solution('mu-', integrate = True)   # Flux of Muons \n",
    "dE = mceq.e_widths  # width of energy bin\n",
    "dNdE = dN / dE  # Energy spectrum of muons\n",
    "\n",
    "E = mceq.e_grid\n",
    "\n",
    "## Finding the mean energy using Simpson integration\n",
    "\n",
    "E_tot = scipy.integrate.simpson(E*dNdE, x = E) # Total energy \n",
    "E_spec_tot = scipy.integrate.simpson(dNdE, x = E) # Total energy spectrum; the argument is sampled by the energy grid, E\n",
    "\n",
    "Eavg_mu = E_tot / E_spec_tot   # Mean energy \n",
    "\n",
    "print('The mean muon energy from MCEq is {} GeV'.format(Eavg_mu))"
   ]
  },
  {
   "cell_type": "markdown",
   "metadata": {},
   "source": [
    "From the Heitler-Matthews model, we know that $E_{dec}$ is the energy where energy values under it will decay into muons.\n",
    "$$E_{dec} = 30 GeV$$\n",
    "\n",
    "From the lecture notes, the energy of muons carry about 80% of the energy of pions. Therefore, the muon energy from the Heitler-Matthews model is \n",
    "$$E_\\mu = 0.8 \\; E_{dec} = 0.8 \\; (30 \\, GeV) = 24.0 \\, GeV$$"
   ]
  },
  {
   "cell_type": "code",
   "execution_count": 7,
   "metadata": {},
   "outputs": [
    {
     "name": "stdout",
     "output_type": "stream",
     "text": [
      "The assumed muon energy in the Heitler-Matthews model is 24.0 GeV\n"
     ]
    }
   ],
   "source": [
    "## HM Model\n",
    "E_c = 30 # Energy threshold of a pion - anything below turns into a muon; units of GeV\n",
    "E_mu = 0.8 * E_c\n",
    "\n",
    "print('The assumed muon energy in the Heitler-Matthews model is {} GeV'.format(E_mu))"
   ]
  },
  {
   "cell_type": "code",
   "execution_count": 8,
   "metadata": {},
   "outputs": [
    {
     "name": "stdout",
     "output_type": "stream",
     "text": [
      "The muon energy from the Heitler-Matthews model is 2.73 times greater than the MCEq approximation.\n"
     ]
    }
   ],
   "source": [
    "## Comparing values\n",
    "ratio = E_mu / Eavg_mu\n",
    "print('The muon energy from the Heitler-Matthews model is {:.2f} times greater than the MCEq approximation.'.format(ratio))"
   ]
  },
  {
   "cell_type": "markdown",
   "metadata": {},
   "source": [
    "**Question**: Why is the Heitler-Matthews model almost 3 times larger than the MCEq approximation?\n",
    "* answer here"
   ]
  },
  {
   "cell_type": "markdown",
   "metadata": {},
   "source": [
    "### <font color = 'darkblue'> **Part C** </font>\n",
    "> Make a plot showing the muon energy spectrum for a $10\\;PeV$ proton and an iron shower for $100 \\; MeV$ ≤ $E_\\mu$ ≤ $100\\;TeV$. How do they differ?"
   ]
  },
  {
   "cell_type": "markdown",
   "metadata": {},
   "source": [
    "Below is the code of creating a vertical cascade of an $10 \\, PeV$ iron ($Fe$) shower. Most of the code is the same, however one major difference is the ID number.\n",
    "* For an iron primary particle, I will use the ID number, **'corsika_id = 5626'**, when setting the primary particle of the shower.\n",
    "* I will call this shower, *mceq_fe*\n",
    "\n",
    "To calculate the number of muons at sea level, I will do the same process as before."
   ]
  },
  {
   "cell_type": "code",
   "execution_count": 3,
   "metadata": {},
   "outputs": [
    {
     "name": "stdout",
     "output_type": "stream",
     "text": [
      "MCEqRun::set_interaction_model(): SIBYLL23C\n",
      "ParticleManager::_init_default_tracking(): Initializing default tracking categories (pi, K, mu)\n",
      "MCEqRun::set_density_model(): Setting density profile to CORSIKA ('BK_USStd', None)\n",
      "MCEqRun::set_primary_model(): HillasGaisser2012 H3a\n"
     ]
    }
   ],
   "source": [
    "## Iron Shower\n",
    "\n",
    "# Running the MCEq \n",
    "mceq_fe = MCEqRun(\n",
    "\n",
    "# High-energy hadronic interaction model\n",
    "interaction_model='SIBYLL23C',\n",
    "\n",
    "# cosmic ray flux at the top of the atmosphere\n",
    "primary_model = (crf.HillasGaisser2012, 'H3a'),\n",
    "\n",
    "# zenith angle\n",
    "theta_deg = 0.  # Set to 0 for vertical showers\n",
    ")\n",
    "mceq_fe.set_single_primary_particle(1e7, corsika_id = 5626) # 10 PeV Iron - Units are in GeV\n",
    "\n",
    "mceq_fe.solve()"
   ]
  },
  {
   "cell_type": "code",
   "execution_count": 20,
   "metadata": {},
   "outputs": [
    {
     "name": "stdout",
     "output_type": "stream",
     "text": [
      "The number of muons at sea level for a Fe primary: 134754\n",
      "----------------------------\n",
      "Comparing Values\n",
      "The number of muons (at sea level) in a Fe shower is 1.32 greater than a proton shower (both have energy of 10 PeV)\n"
     ]
    }
   ],
   "source": [
    "n_mu_fe = mceq_fe.n_mu(grid_idx=None, min_energy_cutoff=0) # Number of muons at sea level\n",
    "print('The number of muons at sea level for a Fe primary: {:.0f}'.format(n_mu_fe))\n",
    "\n",
    "## Comparing to proton primary with same energy\n",
    "print('----------------------------')\n",
    "print('Comparing Values')\n",
    "print('The number of muons (at sea level) in a Fe shower is {:0.2f} greater than a proton shower (both have energy of 10 PeV)'.format(n_mu_fe/n_mu))"
   ]
  },
  {
   "cell_type": "markdown",
   "metadata": {},
   "source": [
    "Q: Why does the number of muons increase in the Fe shower comapred to the proton shower for the same energy?\n",
    "* Answer here"
   ]
  },
  {
   "cell_type": "markdown",
   "metadata": {},
   "source": [
    "Below is the same process as before to find the mean muon energy from *mceq_fe*."
   ]
  },
  {
   "cell_type": "code",
   "execution_count": 7,
   "metadata": {},
   "outputs": [
    {
     "name": "stdout",
     "output_type": "stream",
     "text": [
      "The mean muon energy in an iron shower from MCEq is 11.215314610414152 GeV\n"
     ]
    }
   ],
   "source": [
    "## Finding mean muon energy\n",
    "dN_fe = mceq_fe.get_solution('mu+', integrate = True) + mceq_fe.get_solution('mu-', integrate = True)\n",
    "dE_fe = mceq_fe.e_widths   # this is EXACTLY the same as dE\n",
    "dNdE_fe = dN_fe / dE_fe # energy spectrum of muons in an iron shower\n",
    "\n",
    "E_fe = mceq_fe.e_grid  # same as before\n",
    "\n",
    "## Finding the mean energy using Simpson integration\n",
    "\n",
    "E_tot_fe = scipy.integrate.simpson(E_fe*dNdE_fe, x = E_fe) # Total energy \n",
    "E_spec_tot_fe = scipy.integrate.simpson(dNdE_fe, x = E_fe) # Total energy spectrum; the argument is sampled by the energy grid, E\n",
    "Eavg_mu_fe = E_tot_fe / E_spec_tot_fe   \n",
    "\n",
    "print('The mean muon energy in an iron shower from MCEq is {} GeV'.format(Eavg_mu_fe))"
   ]
  },
  {
   "cell_type": "code",
   "execution_count": 21,
   "metadata": {},
   "outputs": [
    {
     "name": "stdout",
     "output_type": "stream",
     "text": [
      "0.020567176527571868 0.020567176527571868\n"
     ]
    }
   ],
   "source": [
    "print(dE[0], dE_fe[0]) # this shows that the energy spectrum is not dependent on the primary particle"
   ]
  },
  {
   "cell_type": "markdown",
   "metadata": {},
   "source": [
    "Below is a plot of the 10 PeV iron and proton showers for the range of energies $100 \\; MeV$ ≤ $E_\\mu$ ≤ $100\\;TeV$ .\n",
    "\n",
    "First, I will define the energy range with a variable *mask*. This variable will be an array index that meets the energy range criteria with a Boolean.\n",
    "\n",
    "Example:\n",
    "$$\\text{Ex} = \\text{E} < 0.1$$ \n",
    "* 0.1 is equivalent to 100 MeV\n",
    "* The variable $\\text{Ex}$ will be an array with the values of $\\text{True}$ where the index meets the criteria given.\n",
    "\n",
    "Example 2: \n",
    "$$\\text{Ex}_2 = (\\text{E} < 0.1)\\times(\\text{E} > 1)$$ \n",
    "* 1 is equivalent to 1 GeV\n",
    "* The variable $\\text{Ex}_2$ will be an array where **both** conditions are met. \n",
    "* Imagine a $\\text{True} = 1$ and $\\text{False} = 0$. If only one condition is met, you have a $\\text{True} \\times \\text{False} = 1\\times0 = 0$, which correlates to a $\\text{False}$. \n",
    "\n",
    "Therefore, the only way to get a $\\text{True}$ is if you have a $\\text{True} \\times \\text{True}$ .  "
   ]
  },
  {
   "cell_type": "code",
   "execution_count": 33,
   "metadata": {},
   "outputs": [
    {
     "name": "stdout",
     "output_type": "stream",
     "text": [
      "[False  True  True  True  True  True  True  True  True  True  True  True\n",
      "  True  True  True  True  True  True  True  True  True  True  True  True\n",
      "  True  True  True  True  True  True  True  True  True  True  True  True\n",
      "  True  True  True  True  True  True  True  True  True  True  True  True\n",
      "  True  True  True  True  True  True  True  True  True  True  True  True\n",
      "  True False False False False False False False False False False False\n",
      " False False False False False False False False False False False False\n",
      " False False False False False False False False False False False False\n",
      " False False False False False False False False False False False False\n",
      " False False False False False False False False False False False False\n",
      " False]\n"
     ]
    }
   ],
   "source": [
    "## We want a variable of to know which indices meet the energy range specified.\n",
    "mask = (E > 0.1) * (E < 1e5)   # array of Booleans where the indices meet conditons\n",
    "\n",
    "print(mask)  # Boolean for 121 indices of E"
   ]
  },
  {
   "cell_type": "code",
   "execution_count": 40,
   "metadata": {},
   "outputs": [
    {
     "name": "stdout",
     "output_type": "stream",
     "text": [
      "121\n",
      "60\n"
     ]
    }
   ],
   "source": [
    "## Only using the indices where the energy condition is met\n",
    "print(len(E))\n",
    "print(len(E[mask]))  # E values where the mask was True"
   ]
  },
  {
   "cell_type": "code",
   "execution_count": null,
   "metadata": {},
   "outputs": [
    {
     "data": {
      "text/plain": [
       "Text(0, 0.5, 'Ratio Fe/p')"
      ]
     },
     "execution_count": 62,
     "metadata": {},
     "output_type": "execute_result"
    },
    {
     "data": {
      "image/png": "[encoded data removed]",
      "text/plain": [
       "<Figure size 640x480 with 2 Axes>"
      ]
     },
     "metadata": {},
     "output_type": "display_data"
    }
   ],
   "source": [
    "fig, ax = plt.subplots(2, 1, sharex = True, gridspec_kw = {'height_ratios': (3,1) , 'hspace': 0.05})\n",
    "\n",
    "ax[0].loglog(E[mask], dNdE_fe[mask], color = 'darkblue', label = 'fe') # plots a log scale\n",
    "ax[0].loglog(E[mask], dNdE[mask], color = 'darkred', label = 'p')\n",
    "ax[0].set_ylabel(r'$dN_\\mu / dE_\\mu \\; (GeV^{-1})$', fontsize = 11)\n",
    "\n",
    "ax[0].legend(fontsize = 11)\n",
    "\n",
    "ax[1].plot(E[mask], dNdE_fe[mask]/dNdE[mask], color = 'green')\n",
    "ax[1].axhline(1, color = 'grey', ls = '--')\n",
    "ax[1].set_xlabel(r'$E_\\mu \\;(GeV)$', fontsize = 11)\n",
    "ax[1].set_ylabel('Ratio Fe/p', fontsize = 11)"
   ]
  },
  {
   "cell_type": "markdown",
   "metadata": {},
   "source": [
    "The plot above shows both the muon energy spectrum for both the case of an iron shower and a proton shower with energies of $10 \\, PeV$ . However, the ratio plot below it shows the difference in the two plots. For the most part, the iron shower produces more muons than the proton shower. This is because heavier primary particles produce more electrons and muons because they have more intial collisons than lighter primary particles, such as protons. As a result of more intial collisions, they will have more particle cascades, which causes the increase in the number of muons at sea level.\n",
    "\n",
    "I noticed with the ratio of the number of muons had an interesting trajectory, because for the most part, the iron shower had more muons up until $5 \\times 10^4 \\; E_\\mu$ . For higher energies, the proton shower has more muons. This is because the primary energy will be divided per nucleon, meaning that when the energy is higher, the iron atom will have the energy distributed over 56 nucleons (26 protons and 30 neutrons) compared to the singular proton.\n",
    "* Primary particles with more energy will increase the energy of the secondary particles, which is pions, which increases the collision rates of the particles. Since pions decay into muons once they are below $30\\,GeV$ , this means that more muons are produced. "
   ]
  },
  {
   "cell_type": "markdown",
   "metadata": {},
   "source": [
    "## <font color = 'purple'> **Ex 2.2:**  Relation between muons and primary energy </font>\n",
    "\n",
    "In the Heitler-Matthews model, the number of muons scales sub-linearly with\n",
    "the primary energy: $$N_\\mu \\propto E_0^\\alpha$$  with $\\alpha < 1$ . We will study this relation using realistic shower calculations."
   ]
  },
  {
   "cell_type": "markdown",
   "metadata": {},
   "source": [
    "### <font color = 'darkblue'> **Part A** </font>\n",
    "> Derive the total number of muons at the ground for proton-induced air showers at several primary energies between $1\\,PeV$ and $1\\,EeV$ using MCEq.\n",
    "Plot them on logarithmic axes."
   ]
  },
  {
   "cell_type": "markdown",
   "metadata": {},
   "source": [
    "*Note that the energy range (in GeV) is between: $1 \\times 10^6$ and $1 \\times 10^9$ .* "
   ]
  },
  {
   "cell_type": "code",
   "execution_count": 109,
   "metadata": {},
   "outputs": [
    {
     "data": {
      "text/plain": [
       "array([1.00000000e+06, 1.43844989e+06, 2.06913808e+06, 2.97635144e+06,\n",
       "       4.28133240e+06, 6.15848211e+06, 8.85866790e+06, 1.27427499e+07,\n",
       "       1.83298071e+07, 2.63665090e+07, 3.79269019e+07, 5.45559478e+07,\n",
       "       7.84759970e+07, 1.12883789e+08, 1.62377674e+08, 2.33572147e+08,\n",
       "       3.35981829e+08, 4.83293024e+08, 6.95192796e+08, 1.00000000e+09])"
      ]
     },
     "execution_count": 109,
     "metadata": {},
     "output_type": "execute_result"
    }
   ],
   "source": [
    "np.geomspace(1e6, 1e9, 20)"
   ]
  },
  {
   "cell_type": "code",
   "execution_count": 2,
   "metadata": {},
   "outputs": [
    {
     "name": "stdout",
     "output_type": "stream",
     "text": [
      "MCEqRun::set_interaction_model(): SIBYLL23C\n",
      "ParticleManager::_init_default_tracking(): Initializing default tracking categories (pi, K, mu)\n",
      "MCEqRun::set_density_model(): Setting density profile to CORSIKA ('BK_USStd', None)\n",
      "MCEqRun::set_primary_model(): HillasGaisser2012 H3a\n"
     ]
    }
   ],
   "source": [
    "mceq = MCEqRun(\n",
    "\n",
    "# High-energy hadronic interaction model\n",
    "interaction_model='SIBYLL23C',\n",
    "\n",
    "# cosmic ray flux at the top of the atmosphere\n",
    "primary_model = (crf.HillasGaisser2012, 'H3a'),\n",
    "\n",
    "# zenith angle\n",
    "theta_deg = 0.  # Set to 0 for vertical showers\n",
    ")"
   ]
  },
  {
   "cell_type": "code",
   "execution_count": 3,
   "metadata": {},
   "outputs": [],
   "source": [
    "energies = np.geomspace(1e6, 1e9, 21) # equally spaced points on a log scale\n",
    "muons = []\n",
    "\n",
    "for e in energies:\n",
    "    mceq.set_single_primary_particle(e, pdg_id=2212) # 10 PeV proton - Units are in GeV\n",
    "    mceq.solve()\n",
    "    muons.append(mceq.n_mu())"
   ]
  },
  {
   "cell_type": "code",
   "execution_count": 4,
   "metadata": {},
   "outputs": [
    {
     "data": {
      "text/plain": [
       "[11976.756520662191,\n",
       " 16520.286844776572,\n",
       " 22775.419854848646,\n",
       " 31384.01279067855,\n",
       " 43232.07862236755,\n",
       " 59545.20434479893,\n",
       " 81959.49447778687,\n",
       " 112832.80356714071,\n",
       " 155300.5320822637,\n",
       " 213647.60883658507,\n",
       " 293827.1529315689,\n",
       " 403995.03614913987,\n",
       " 555485.8676339444,\n",
       " 763476.7201303941,\n",
       " 1049173.0300608613,\n",
       " 1441835.468811472,\n",
       " 1980667.0882002278,\n",
       " 2720269.952293474,\n",
       " 3736920.7955405507,\n",
       " 5132060.663577912,\n",
       " 7046247.24116084]"
      ]
     },
     "execution_count": 4,
     "metadata": {},
     "output_type": "execute_result"
    }
   ],
   "source": [
    "muons"
   ]
  },
  {
   "cell_type": "code",
   "execution_count": 8,
   "metadata": {},
   "outputs": [
    {
     "data": {
      "text/plain": [
       "Text(0, 0.5, '$N_\\\\mu$')"
      ]
     },
     "execution_count": 8,
     "metadata": {},
     "output_type": "execute_result"
    },
    {
     "data": {
      "image/png": "[encoded data removed]",
      "text/plain": [
       "<Figure size 1200x600 with 1 Axes>"
      ]
     },
     "metadata": {},
     "output_type": "display_data"
    }
   ],
   "source": [
    "fig,ax = plt.subplots(1,1, figsize = (12,6))\n",
    "\n",
    "ax.loglog(energies, muons, 'bo')\n",
    "ax.set_xlabel(r'$E_p$', fontsize = 14)\n",
    "ax.set_ylabel(r'$N_\\mu$', fontsize = 14)"
   ]
  },
  {
   "cell_type": "markdown",
   "metadata": {},
   "source": [
    "### <font color = 'darkblue'> **Part B** </font>\n",
    "> Determine the value of $\\alpha$ by fitting the relation between log $N_\\mu$ and log $E_0$ with a straight line."
   ]
  },
  {
   "cell_type": "markdown",
   "metadata": {},
   "source": [
    "Recall that the number of muons is calculated using the following equation from the Heitler-Matthews model.\n",
    "$$N_\\mu = \\left(\\frac{E_0}{E_{dec}}\\right)^\\alpha$$ \n",
    "where $E_0$ is the energy of the primary particle, and $E_{dec}$ is the energy at which pions will decay into muons ($30\\, GeV$). "
   ]
  },
  {
   "cell_type": "code",
   "execution_count": 12,
   "metadata": {},
   "outputs": [
    {
     "data": {
      "text/plain": [
       "1412537.5446227554"
      ]
     },
     "execution_count": 12,
     "metadata": {},
     "output_type": "execute_result"
    }
   ],
   "source": [
    "muons[1]\n",
    "energies[1]"
   ]
  },
  {
   "cell_type": "code",
   "execution_count": 25,
   "metadata": {},
   "outputs": [],
   "source": [
    "def alpha_fit(x, alpha, c):\n",
    "    fit_curve = alpha*x + c   # we need this offet for the curve fit\n",
    "\n",
    "    return fit_curve"
   ]
  },
  {
   "cell_type": "code",
   "execution_count": 26,
   "metadata": {},
   "outputs": [],
   "source": [
    "## Finding alpha\n",
    "log_E0 = np.log10(energies) # returns the array as a log array\n",
    "log_Nmu = np.log10(muons)\n",
    "\n",
    "popt, pcov = scipy.optimize.curve_fit(alpha_fit, log_E0, log_Nmu)"
   ]
  },
  {
   "cell_type": "code",
   "execution_count": 27,
   "metadata": {},
   "outputs": [
    {
     "name": "stdout",
     "output_type": "stream",
     "text": [
      "0.922965252347345\n"
     ]
    }
   ],
   "source": [
    "print(popt[0])  # why 0?"
   ]
  },
  {
   "cell_type": "markdown",
   "metadata": {},
   "source": [
    "look into why alpha fit must be a certain way\n",
    "\n",
    "look into the output and what it means"
   ]
  },
  {
   "cell_type": "code",
   "execution_count": 17,
   "metadata": {},
   "outputs": [
    {
     "name": "stdout",
     "output_type": "stream",
     "text": [
      "0.3509\n"
     ]
    }
   ],
   "source": [
    "E_dec = 30  # GeV"
   ]
  },
  {
   "cell_type": "code",
   "execution_count": 39,
   "metadata": {},
   "outputs": [
    {
     "data": {
      "text/plain": [
       "array([ 0.92296525, -1.45595478])"
      ]
     },
     "execution_count": 39,
     "metadata": {},
     "output_type": "execute_result"
    }
   ],
   "source": [
    "popt"
   ]
  },
  {
   "cell_type": "code",
   "execution_count": 37,
   "metadata": {},
   "outputs": [
    {
     "data": {
      "text/plain": [
       "array([4.08183673, 4.22028152, 4.35872631, 4.4971711 , 4.63561588,\n",
       "       4.77406067, 4.91250546, 5.05095025, 5.18939504, 5.32783982,\n",
       "       5.46628461, 5.6047294 , 5.74317419, 5.88161897, 6.02006376,\n",
       "       6.15850855, 6.29695334, 6.43539813, 6.57384291, 6.7122877 ,\n",
       "       6.85073249])"
      ]
     },
     "execution_count": 37,
     "metadata": {},
     "output_type": "execute_result"
    }
   ],
   "source": [
    "alpha_fit(log_E0, *popt)"
   ]
  },
  {
   "cell_type": "code",
   "execution_count": 41,
   "metadata": {},
   "outputs": [
    {
     "data": {
      "text/plain": [
       "Text(0, 0.5, '$N_\\\\mu$')"
      ]
     },
     "execution_count": 41,
     "metadata": {},
     "output_type": "execute_result"
    },
    {
     "data": {
      "image/png": "[encoded data removed]",
      "text/plain": [
       "<Figure size 1200x600 with 1 Axes>"
      ]
     },
     "metadata": {},
     "output_type": "display_data"
    }
   ],
   "source": [
    "fig,ax = plt.subplots(1,1, figsize = (12,6))\n",
    "alpha = 0.92\n",
    "\n",
    "ax.plot(energies, 10**alpha_fit(log_E0, *popt), linestyle = '-', color = 'black')  # must fit on log scale\n",
    "ax.loglog(energies, muons, 'bo')\n",
    "ax.set_xlabel(r'$E_p$', fontsize = 14)\n",
    "ax.set_ylabel(r'$N_\\mu$', fontsize = 14)"
   ]
  },
  {
   "cell_type": "markdown",
   "metadata": {},
   "source": [
    "## <font color = 'purple'> **Ex 2.3:**  Composition dependence of $X_{max}^\\mu$ </font>\n",
    "\n",
    "Air showers are dominated by the electromagnetic component, which reaches\n",
    "a maximum number of particles at a depth $X_{max}$, after which it decreases due\n",
    "to absorption of low-energy particles. The subdominant muon component of\n",
    "air showers can similarly reach a maximum in lower-energy showers, because\n",
    "low-energy muons will decay before reaching the surface of the Earth. Let us\n",
    "call this depth $X_{max}^\\mu$ and study how it depends on the mass $A$ of the primary."
   ]
  },
  {
   "cell_type": "markdown",
   "metadata": {},
   "source": [
    "### <font color = 'darkblue'> **Part A** </font>\n",
    "> Use MCEq to obtain the number of muons, $N_\\mu = N_{\\mu^+} + N_{\\mu^-}$ on a grid of $X$ values ranging from $0\\, g/cm^2$ to $1030\\, g/cm^2$ for a vertical $1\\, PeV$ proton shower, in steps of $1\\, g/cm^2$. Plot $N_\\mu$ as a function of $X$ . This is the so-called longitudinal profile of the muon component of the shower."
   ]
  },
  {
   "cell_type": "code",
   "execution_count": null,
   "metadata": {},
   "outputs": [],
   "source": [
    "# Running the MCEq \n",
    "mceq = MCEqRun(\n",
    "\n",
    "# High-energy hadronic interaction model\n",
    "interaction_model='SIBYLL23C',\n",
    "\n",
    "# cosmic ray flux at the top of the atmosphere\n",
    "primary_model = (crf.HillasGaisser2012, 'H3a'),\n",
    "\n",
    "# zenith angle\n",
    "theta_deg = 0.  # Set to 0 for vertical showers\n",
    ")\n",
    "mceq.set_single_primary_particle(1e7, pdg_id=2212) # 10 PeV proton - Units are in GeV\n",
    "\n",
    "mceq.solve()"
   ]
  },
  {
   "cell_type": "markdown",
   "metadata": {},
   "source": [
    "### <font color = 'darkblue'> **Part B** </font>\n",
    "> Find $X_{max}^\\mu$ , the grid point of depth $X$ where $N_\\mu$ reaches its maximal value."
   ]
  },
  {
   "cell_type": "code",
   "execution_count": null,
   "metadata": {},
   "outputs": [],
   "source": [
    "#"
   ]
  },
  {
   "cell_type": "markdown",
   "metadata": {},
   "source": [
    "### <font color = 'darkblue'> **Part C** </font>\n",
    "> Repeat this for $1\\, PeV$ showers initidated by helium, carbon, silicon, and iron nuclei. Does $X_{max}^\\mu$ have an approximately linear relationship to ln $A$ , as is expected for the regular shower maximum $X_{max}$ ?"
   ]
  },
  {
   "cell_type": "code",
   "execution_count": 63,
   "metadata": {},
   "outputs": [],
   "source": [
    "#"
   ]
  }
 ],
 "metadata": {
  "kernelspec": {
   "display_name": "base",
   "language": "python",
   "name": "python3"
  },
  "language_info": {
   "codemirror_mode": {
    "name": "ipython",
    "version": 3
   },
   "file_extension": ".py",
   "mimetype": "text/x-python",
   "name": "python",
   "nbconvert_exporter": "python",
   "pygments_lexer": "ipython3",
   "version": "3.10.9"
  }
 },
 "nbformat": 4,
 "nbformat_minor": 2
}
